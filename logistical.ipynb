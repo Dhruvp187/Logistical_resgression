{
  "nbformat": 4,
  "nbformat_minor": 0,
  "metadata": {
    "colab": {
      "provenance": [],
      "authorship_tag": "ABX9TyP/+GIfpUIdc4BANvU8PYLP",
      "include_colab_link": true
    },
    "kernelspec": {
      "name": "python3",
      "display_name": "Python 3"
    },
    "language_info": {
      "name": "python"
    }
  },
  "cells": [
    {
      "cell_type": "markdown",
      "metadata": {
        "id": "view-in-github",
        "colab_type": "text"
      },
      "source": [
        "<a href=\"https://colab.research.google.com/github/Dhruvp187/Logistical_resgression/blob/main/logistical.ipynb\" target=\"_parent\"><img src=\"https://colab.research.google.com/assets/colab-badge.svg\" alt=\"Open In Colab\"/></a>"
      ]
    },
    {
      "cell_type": "markdown",
      "source": [
        "PART 2\n"
      ],
      "metadata": {
        "id": "fLJZnmPYTHeO"
      }
    },
    {
      "cell_type": "code",
      "source": [
        "#\"I certify that the code and data in this assignment were generated independently, using only the tools and resources defined in the course and that I did not receive any external help, coaching or contributions during the production of this work.\""
      ],
      "metadata": {
        "id": "_1EjLK2vTAac"
      },
      "execution_count": null,
      "outputs": []
    },
    {
      "cell_type": "code",
      "execution_count": null,
      "metadata": {
        "colab": {
          "base_uri": "https://localhost:8080/"
        },
        "id": "7_SWRf7QAKdI",
        "outputId": "8f62974f-475b-4ea9-e8e8-ba87156785e7"
      },
      "outputs": [
        {
          "output_type": "execute_result",
          "data": {
            "text/plain": [
              "species               object\n",
              "island                object\n",
              "culmen_length_mm     float64\n",
              "culmen_depth_mm      float64\n",
              "flipper_length_mm    float64\n",
              "body_mass_g          float64\n",
              "sex                   object\n",
              "dtype: object"
            ]
          },
          "metadata": {},
          "execution_count": 27
        }
      ],
      "source": [
        "import numpy as np\n",
        "import pandas as pd\n",
        "import os\n",
        "import random\n",
        "import matplotlib.pyplot as plt\n",
        "import matplotlib as map\n",
        "\n",
        "data = pd.read_csv('penguins_size.csv')\n",
        "\n",
        "data.dtypes"
      ]
    },
    {
      "cell_type": "code",
      "source": [
        "data.describe()\n",
        "data.max()\n",
        "data.value_counts()\n",
        "data.info()\n",
        "data.dtypes\n"
      ],
      "metadata": {
        "colab": {
          "base_uri": "https://localhost:8080/"
        },
        "id": "r13Ld8D-Q-gz",
        "outputId": "de346686-8dde-4019-c9b3-cc4722c66cb4"
      },
      "execution_count": null,
      "outputs": [
        {
          "output_type": "stream",
          "name": "stdout",
          "text": [
            "<class 'pandas.core.frame.DataFrame'>\n",
            "RangeIndex: 344 entries, 0 to 343\n",
            "Data columns (total 7 columns):\n",
            " #   Column             Non-Null Count  Dtype  \n",
            "---  ------             --------------  -----  \n",
            " 0   species            344 non-null    object \n",
            " 1   island             344 non-null    object \n",
            " 2   culmen_length_mm   342 non-null    float64\n",
            " 3   culmen_depth_mm    342 non-null    float64\n",
            " 4   flipper_length_mm  342 non-null    float64\n",
            " 5   body_mass_g        342 non-null    float64\n",
            " 6   sex                334 non-null    object \n",
            "dtypes: float64(4), object(3)\n",
            "memory usage: 18.9+ KB\n"
          ]
        },
        {
          "output_type": "stream",
          "name": "stderr",
          "text": [
            "/usr/local/lib/python3.7/dist-packages/ipykernel_launcher.py:2: FutureWarning: Dropping of nuisance columns in DataFrame reductions (with 'numeric_only=None') is deprecated; in a future version this will raise TypeError.  Select only valid columns before calling the reduction.\n",
            "  \n"
          ]
        },
        {
          "output_type": "execute_result",
          "data": {
            "text/plain": [
              "species               object\n",
              "island                object\n",
              "culmen_length_mm     float64\n",
              "culmen_depth_mm      float64\n",
              "flipper_length_mm    float64\n",
              "body_mass_g          float64\n",
              "sex                   object\n",
              "dtype: object"
            ]
          },
          "metadata": {},
          "execution_count": 28
        }
      ]
    },
    {
      "cell_type": "code",
      "source": [
        "data['species'] = data.species.astype('category')\n",
        "data['sex'] = data.sex.astype('category')\n",
        "data['island'] = data.island.astype('category')\n",
        "\n",
        "data.dtypes"
      ],
      "metadata": {
        "colab": {
          "base_uri": "https://localhost:8080/"
        },
        "id": "m_g687g9Apfb",
        "outputId": "1c5085be-7969-4370-b7b6-1036d84a1f98"
      },
      "execution_count": null,
      "outputs": [
        {
          "output_type": "execute_result",
          "data": {
            "text/plain": [
              "species              category\n",
              "island               category\n",
              "culmen_length_mm      float64\n",
              "culmen_depth_mm       float64\n",
              "flipper_length_mm     float64\n",
              "body_mass_g           float64\n",
              "sex                  category\n",
              "dtype: object"
            ]
          },
          "metadata": {},
          "execution_count": 29
        }
      ]
    },
    {
      "cell_type": "code",
      "source": [
        "df_min_max_scaled = data.copy()\n",
        "\n",
        "column = 'culmen_length_mm'\n",
        "df_min_max_scaled[column] = (df_min_max_scaled[column] - df_min_max_scaled[column].min()) / (df_min_max_scaled[column].max() - df_min_max_scaled[column].min())\n",
        "column = 'culmen_depth_mm'\n",
        "df_min_max_scaled[column] = (df_min_max_scaled[column] - df_min_max_scaled[column].min()) / (df_min_max_scaled[column].max() - df_min_max_scaled[column].min())\n",
        "column = 'flipper_length_mm'\n",
        "df_min_max_scaled[column] = (df_min_max_scaled[column] - df_min_max_scaled[column].min()) / (df_min_max_scaled[column].max() - df_min_max_scaled[column].min())\n",
        "column = 'body_mass_g'\n",
        "df_min_max_scaled[column] = (df_min_max_scaled[column] - df_min_max_scaled[column].min()) / (df_min_max_scaled[column].max() - df_min_max_scaled[column].min())\n",
        "\n",
        "data = df_min_max_scaled\n",
        "\n",
        "print(data)"
      ],
      "metadata": {
        "colab": {
          "base_uri": "https://localhost:8080/"
        },
        "id": "C_cOlCQZAwfN",
        "outputId": "ac480e69-7101-48c0-94ca-800088c49085"
      },
      "execution_count": null,
      "outputs": [
        {
          "output_type": "stream",
          "name": "stdout",
          "text": [
            "    species     island  culmen_length_mm  culmen_depth_mm  flipper_length_mm  \\\n",
            "0    Adelie  Torgersen          0.254545         0.666667           0.152542   \n",
            "1    Adelie  Torgersen          0.269091         0.511905           0.237288   \n",
            "2    Adelie  Torgersen          0.298182         0.583333           0.389831   \n",
            "3    Adelie  Torgersen               NaN              NaN                NaN   \n",
            "4    Adelie  Torgersen          0.167273         0.738095           0.355932   \n",
            "..      ...        ...               ...              ...                ...   \n",
            "339  Gentoo     Biscoe               NaN              NaN                NaN   \n",
            "340  Gentoo     Biscoe          0.534545         0.142857           0.728814   \n",
            "341  Gentoo     Biscoe          0.665455         0.309524           0.847458   \n",
            "342  Gentoo     Biscoe          0.476364         0.202381           0.677966   \n",
            "343  Gentoo     Biscoe          0.647273         0.357143           0.694915   \n",
            "\n",
            "     body_mass_g     sex  \n",
            "0       0.291667    MALE  \n",
            "1       0.305556  FEMALE  \n",
            "2       0.152778  FEMALE  \n",
            "3            NaN     NaN  \n",
            "4       0.208333  FEMALE  \n",
            "..           ...     ...  \n",
            "339          NaN     NaN  \n",
            "340     0.597222  FEMALE  \n",
            "341     0.847222    MALE  \n",
            "342     0.694444  FEMALE  \n",
            "343     0.750000    MALE  \n",
            "\n",
            "[344 rows x 7 columns]\n"
          ]
        }
      ]
    },
    {
      "cell_type": "code",
      "source": [
        "data.replace(to_replace=['MALE','FEMALE'] , value=[\"1.0\", \"2.0\"], inplace=True)\n",
        "\n",
        "data['sex'] = pd.to_numeric(data['sex'],errors = 'coerce')\n",
        "data.dtypes\n"
      ],
      "metadata": {
        "colab": {
          "base_uri": "https://localhost:8080/"
        },
        "id": "yBzhj5VQwZ_L",
        "outputId": "0641b27d-4c2d-4c42-bae0-881933df2ce9"
      },
      "execution_count": null,
      "outputs": [
        {
          "output_type": "execute_result",
          "data": {
            "text/plain": [
              "species              category\n",
              "island               category\n",
              "culmen_length_mm      float64\n",
              "culmen_depth_mm       float64\n",
              "flipper_length_mm     float64\n",
              "body_mass_g           float64\n",
              "sex                   float64\n",
              "dtype: object"
            ]
          },
          "metadata": {},
          "execution_count": 31
        }
      ]
    },
    {
      "cell_type": "code",
      "source": [
        "data = data.drop(['species','island'], axis=1)\n",
        "data = data.drop(labels=[3,8,9,10,11,47,246,286,324,336,339], axis=0)\n",
        "\n",
        "print(data)"
      ],
      "metadata": {
        "colab": {
          "base_uri": "https://localhost:8080/"
        },
        "id": "vT8xutvaDWRw",
        "outputId": "6a4df943-8aed-4824-8a9d-9a810c6b7ba4"
      },
      "execution_count": null,
      "outputs": [
        {
          "output_type": "stream",
          "name": "stdout",
          "text": [
            "     culmen_length_mm  culmen_depth_mm  flipper_length_mm  body_mass_g  sex\n",
            "0            0.254545         0.666667           0.152542     0.291667  1.0\n",
            "1            0.269091         0.511905           0.237288     0.305556  2.0\n",
            "2            0.298182         0.583333           0.389831     0.152778  2.0\n",
            "4            0.167273         0.738095           0.355932     0.208333  2.0\n",
            "5            0.261818         0.892857           0.305085     0.263889  1.0\n",
            "..                ...              ...                ...          ...  ...\n",
            "338          0.549091         0.071429           0.711864     0.618056  2.0\n",
            "340          0.534545         0.142857           0.728814     0.597222  2.0\n",
            "341          0.665455         0.309524           0.847458     0.847222  1.0\n",
            "342          0.476364         0.202381           0.677966     0.694444  2.0\n",
            "343          0.647273         0.357143           0.694915     0.750000  1.0\n",
            "\n",
            "[333 rows x 5 columns]\n"
          ]
        }
      ]
    },
    {
      "cell_type": "code",
      "source": [
        "X = data.drop(\"sex\", 1)\n",
        "Y = data['sex']\n",
        "\n",
        "print(\"X=\\n\", X,\"\\n\\nY=\\n\", Y)"
      ],
      "metadata": {
        "colab": {
          "base_uri": "https://localhost:8080/"
        },
        "id": "NA3YGaOwBqaX",
        "outputId": "69ab1480-a122-47e7-b59e-3ed451787dcb"
      },
      "execution_count": null,
      "outputs": [
        {
          "output_type": "stream",
          "name": "stdout",
          "text": [
            "X=\n",
            "      culmen_length_mm  culmen_depth_mm  flipper_length_mm  body_mass_g\n",
            "0            0.254545         0.666667           0.152542     0.291667\n",
            "1            0.269091         0.511905           0.237288     0.305556\n",
            "2            0.298182         0.583333           0.389831     0.152778\n",
            "4            0.167273         0.738095           0.355932     0.208333\n",
            "5            0.261818         0.892857           0.305085     0.263889\n",
            "..                ...              ...                ...          ...\n",
            "338          0.549091         0.071429           0.711864     0.618056\n",
            "340          0.534545         0.142857           0.728814     0.597222\n",
            "341          0.665455         0.309524           0.847458     0.847222\n",
            "342          0.476364         0.202381           0.677966     0.694444\n",
            "343          0.647273         0.357143           0.694915     0.750000\n",
            "\n",
            "[333 rows x 4 columns] \n",
            "\n",
            "Y=\n",
            " 0      1.0\n",
            "1      2.0\n",
            "2      2.0\n",
            "4      2.0\n",
            "5      1.0\n",
            "      ... \n",
            "338    2.0\n",
            "340    2.0\n",
            "341    1.0\n",
            "342    2.0\n",
            "343    1.0\n",
            "Name: sex, Length: 333, dtype: float64\n"
          ]
        },
        {
          "output_type": "stream",
          "name": "stderr",
          "text": [
            "/usr/local/lib/python3.7/dist-packages/ipykernel_launcher.py:1: FutureWarning: In a future version of pandas all arguments of DataFrame.drop except for the argument 'labels' will be keyword-only\n",
            "  \"\"\"Entry point for launching an IPython kernel.\n"
          ]
        }
      ]
    },
    {
      "cell_type": "code",
      "source": [
        "def split(X, Y, ts=0.2):\n",
        "\n",
        "    I = int((1 - ts) * X.shape[0])\n",
        "    O = np.random.permutation(X.shape[0])\n",
        "\n",
        "    X_train, X_test = np.split(np.take(X,O,axis=0), [I])\n",
        "    Y_train, Y_test = np.split(np.take(Y,O), [I])\n",
        "    return X_train, X_test, Y_train, Y_test\n",
        "\n",
        "\n",
        "X_train, X_test, Y_train, Y_test = split(X,Y)\n",
        "\n",
        "xtrain = X_train\n",
        "ytrain = Y_train\n",
        "xtest = X_test\n",
        "ytest = Y_test\n",
        "\n",
        "# print(X_train)\n",
        "# print(Y_train)\n",
        "# print(X_test)\n",
        "# print(Y_test)\n",
        "# print(xtrain)\n",
        "# print(ytrain)\n",
        "# print(xtest)\n",
        "# print(ytest)"
      ],
      "metadata": {
        "id": "D2QuOv-dBynt"
      },
      "execution_count": null,
      "outputs": []
    },
    {
      "cell_type": "code",
      "source": [
        "print (xtrain.shape)\n",
        "print (ytrain.shape)\n",
        "print (xtest.shape)\n",
        "print (ytest.shape)\n"
      ],
      "metadata": {
        "colab": {
          "base_uri": "https://localhost:8080/"
        },
        "id": "hM7Vf9n7CajD",
        "outputId": "8dff0824-f90f-44e4-c59c-adfe9cc67b33"
      },
      "execution_count": null,
      "outputs": [
        {
          "output_type": "stream",
          "name": "stdout",
          "text": [
            "(266, 4)\n",
            "(266,)\n",
            "(67, 4)\n",
            "(67,)\n"
          ]
        }
      ]
    },
    {
      "cell_type": "code",
      "source": [
        "class LogitRegression():\n",
        "  def __init__(self,lr,it):\n",
        "    self.lr = lr\n",
        "    self.it = it\n",
        "\n",
        "  def fit(self,w1,w):\n",
        "    self.w = np.random.uniform(0,1)\n",
        "    # self.w = np.transpose(self.w1)\n",
        "\n",
        "\n",
        "    for i in range(self.it):\n",
        "      self.gradient_descent(ytrain,xtrain,w)\n",
        "      self.cost()\n",
        "\n",
        "  def sigmoid(self,z):\n",
        "    yhead = 1/(1+(np.exp(-z)))\n",
        "    return yhead\n",
        "\n",
        "  def cost(self,h,loss):\n",
        "    h = self.sigmoid(np.dot(self.w,xtrain))\n",
        "    loss = (-ytrain*np.log(h)-(1-ytrain)*np.log(1-h))\n",
        "    loss.append()\n",
        "    return loss.mean()\n",
        "\n",
        "  def gradient_descent(self,ytrain,xtrain,w):\n",
        "    yhat = self.sigmoid(np.dot(self.w,xtrain))\n",
        "    pred = self.sigmoid(np.dot(self.w,xtrain))\n",
        "    delta = pred - ytrain\n",
        "    xt = np.transpose(xtrain)\n",
        "    dw = (xt*delta)\n",
        "    dw = dw.mean()\n",
        "    return dw,pred\n",
        "\n",
        "  def predict(self, xtest,w):\n",
        "    z = self.sigmoid(np.dot(self.w,xtest))\n",
        "    Y_prediction = np.zeros((1,xtest.shape[1]))\n",
        "\n",
        "    for i in range(z.shape[1]):\n",
        "        if z[0,i]<= 1.0:\n",
        "            Y_prediction[0,i] = 0\n",
        "        else:\n",
        "            Y_prediction[0,i] = 1\n",
        "\n",
        "    return self.sigmoid"
      ],
      "metadata": {
        "id": "OREAUWIKC1B1"
      },
      "execution_count": null,
      "outputs": []
    },
    {
      "cell_type": "code",
      "source": [
        "model = LogitRegression(lr=(1e-6), it=100000)\n",
        "model.fit(xtrain, ytrain)"
      ],
      "metadata": {
        "id": "QFcVy2KnD2R-"
      },
      "execution_count": null,
      "outputs": []
    }
  ]
}